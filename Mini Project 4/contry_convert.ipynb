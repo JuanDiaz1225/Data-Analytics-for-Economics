{
 "cells": [
  {
   "cell_type": "code",
   "execution_count": 2,
   "metadata": {},
   "outputs": [
    {
     "name": "stdout",
     "output_type": "stream",
     "text": [
      "Successfully created 'world_happiness_with_continent.csv' with the Continent column.\n"
     ]
    }
   ],
   "source": [
    "import pandas as pd\n",
    "import pycountry_convert as pc\n",
    "\n",
    "def get_continent(country_name):\n",
    "    \"\"\"\n",
    "    Given a country name, return the corresponding continent name.\n",
    "    If the country cannot be converted, return \"Unknown\".\n",
    "    \"\"\"\n",
    "    try:\n",
    "        # Convert country name to its alpha-2 country code\n",
    "        country_alpha2 = pc.country_name_to_country_alpha2(country_name)\n",
    "        # Get the continent code from the country code\n",
    "        continent_code = pc.country_alpha2_to_continent_code(country_alpha2)\n",
    "        # Convert continent code to continent name (e.g., 'Europe', 'Asia')\n",
    "        continent_name = pc.convert_continent_code_to_continent_name(continent_code)\n",
    "        return continent_name\n",
    "    except Exception:\n",
    "        return \"Unknown\"\n",
    "\n",
    "# Replace 'world_happiness.csv' with your CSV file path\n",
    "input_csv = \"World Happiness Report.csv\"\n",
    "df = pd.read_csv(input_csv)\n",
    "\n",
    "# Create a new 'Continent' column by applying the get_continent function to each country name\n",
    "df[\"Continent\"] = df[\"Country\"].apply(get_continent)\n",
    "\n",
    "# Save the updated DataFrame to a new CSV file\n",
    "output_csv = \"world_happiness_with_continent.csv\"\n",
    "df.to_csv(output_csv, index=False)\n",
    "\n",
    "print(f\"Successfully created '{output_csv}' with the Continent column.\")\n"
   ]
  }
 ],
 "metadata": {
  "kernelspec": {
   "display_name": "Python 3",
   "language": "python",
   "name": "python3"
  },
  "language_info": {
   "codemirror_mode": {
    "name": "ipython",
    "version": 3
   },
   "file_extension": ".py",
   "mimetype": "text/x-python",
   "name": "python",
   "nbconvert_exporter": "python",
   "pygments_lexer": "ipython3",
   "version": "3.13.2"
  }
 },
 "nbformat": 4,
 "nbformat_minor": 2
}
